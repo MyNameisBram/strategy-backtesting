{
 "cells": [
  {
   "cell_type": "code",
   "execution_count": 1,
   "metadata": {},
   "outputs": [],
   "source": [
    "import pandas as pd\n",
    "import vectorbt as vbt\n",
    "import numpy as np"
   ]
  },
  {
   "cell_type": "code",
   "execution_count": 2,
   "metadata": {},
   "outputs": [
    {
     "data": {
      "text/plain": [
       "Date\n",
       "2019-01-02 05:00:00+00:00     20.674667\n",
       "2019-01-03 05:00:00+00:00     20.024000\n",
       "2019-01-04 05:00:00+00:00     21.179333\n",
       "2019-01-07 05:00:00+00:00     22.330667\n",
       "2019-01-08 05:00:00+00:00     22.356667\n",
       "                                ...    \n",
       "2023-12-22 05:00:00+00:00    252.539993\n",
       "2023-12-26 05:00:00+00:00    256.609985\n",
       "2023-12-27 05:00:00+00:00    261.440002\n",
       "2023-12-28 05:00:00+00:00    253.179993\n",
       "2023-12-29 05:00:00+00:00    248.479996\n",
       "Name: Close, Length: 1258, dtype: float64"
      ]
     },
     "execution_count": 2,
     "metadata": {},
     "output_type": "execute_result"
    }
   ],
   "source": [
    "# test with data\n",
    "ticker = \"TSLA\"\n",
    "start_date = \"2019-01-01\"\n",
    "end_date = \"2024-01-01\"\n",
    "\n",
    "price_1d = vbt.YFData.download(ticker,\n",
    "        missing_index='drop',\n",
    "        start=start_date,\n",
    "        end=end_date,\n",
    "        interval=\"1D\").get('Close')\n",
    "\n",
    "price_1d"
   ]
  },
  {
   "cell_type": "code",
   "execution_count": 3,
   "metadata": {},
   "outputs": [],
   "source": [
    "# combining indicators\n",
    "\n",
    "def combine_indicators(close, window = 14, entry = 30, exit = 70, slow = 50, fast = 10):\n",
    "     trend = np.full(close.shape, np.nan)\n",
    "     rsi = vbt.RSI.run(close, window = window, short_name=\"rsi\")\n",
    "     slow_ma = vbt.MA.run(close, slow)\n",
    "     fast_ma = vbt.MA.run(close, fast)\n",
    "     ma_signal = fast_ma.ma_above(slow_ma).to_numpy()\n",
    "     rsi_above = rsi.rsi_above(exit).to_numpy()\n",
    "     rsi_below = rsi.rsi_below(entry).to_numpy()\n",
    "     for x in range(len(close)):\n",
    "         if rsi_above[x] == True and ma_signal[x] == True:\n",
    "             trend[x] = 1\n",
    "         elif rsi_below[x] == True or ma_signal[x] == False:\n",
    "             trend[x] = -1\n",
    "         else:\n",
    "             trend[x] = 0\n",
    "     return trend\n",
    "\n",
    "# returns 1 for buy signal, -1 for sell signal, and 0 for no signal"
   ]
  },
  {
   "cell_type": "code",
   "execution_count": 4,
   "metadata": {},
   "outputs": [],
   "source": [
    "myInd = vbt.IndicatorFactory(\n",
    "         class_name=\"Combination\",\n",
    "         short_name=\"comb\",\n",
    "         input_names=[\"close\"],\n",
    "         param_names=[\"window\",\"entry\",\"exit\",\"slow\",\"fast\"],\n",
    "         output_names=[\"ind\"]\n",
    "         ).from_apply_func(\n",
    "             combine_indicators,\n",
    "             window=14,\n",
    "             entry=30,\n",
    "             exit=70,\n",
    "             slow=50,\n",
    "             fast=10\n",
    "         )\n"
   ]
  },
  {
   "cell_type": "code",
   "execution_count": 5,
   "metadata": {},
   "outputs": [],
   "source": [
    "res = myInd.run(price_1d,\n",
    "                window=14,\n",
    "                entry=30,\n",
    "                exit=70,\n",
    "                slow=50,\n",
    "                fast=10,\n",
    "                param_product=True\n",
    "                )\n",
    "\n",
    "# running our indicator\n",
    "entries = res.ind == 1.0\n",
    "exits = res.ind == -1.0\n",
    "pf = vbt.Portfolio.from_signals(price_1d, entries, exits, freq = \"1D\", fees=0.01)"
   ]
  },
  {
   "cell_type": "code",
   "execution_count": 6,
   "metadata": {},
   "outputs": [
    {
     "name": "stdout",
     "output_type": "stream",
     "text": [
      "Start                         2019-01-02 05:00:00+00:00\n",
      "End                           2023-12-29 05:00:00+00:00\n",
      "Period                               1258 days 00:00:00\n",
      "Start Value                                       100.0\n",
      "End Value                                    643.669229\n",
      "Total Return [%]                             543.669229\n",
      "Benchmark Return [%]                        1101.857285\n",
      "Max Gross Exposure [%]                            100.0\n",
      "Total Fees Paid                              160.277203\n",
      "Max Drawdown [%]                              54.608428\n",
      "Max Drawdown Duration                 540 days 00:00:00\n",
      "Total Trades                                         13\n",
      "Total Closed Trades                                  13\n",
      "Total Open Trades                                     0\n",
      "Open Trade PnL                                      0.0\n",
      "Win Rate [%]                                  38.461538\n",
      "Best Trade [%]                               171.470188\n",
      "Worst Trade [%]                              -16.819627\n",
      "Avg Winning Trade [%]                         85.241558\n",
      "Avg Losing Trade [%]                          -11.07525\n",
      "Avg Winning Trade Duration             96 days 19:12:00\n",
      "Avg Losing Trade Duration              18 days 15:00:00\n",
      "Profit Factor                                  1.864432\n",
      "Expectancy                                     41.82071\n",
      "Sharpe Ratio                                   1.258803\n",
      "Calmar Ratio                                   1.311953\n",
      "Omega Ratio                                    1.306496\n",
      "Sortino Ratio                                  1.924643\n",
      "dtype: object\n"
     ]
    }
   ],
   "source": [
    "print(pf.stats())"
   ]
  },
  {
   "cell_type": "code",
   "execution_count": null,
   "metadata": {},
   "outputs": [],
   "source": []
  },
  {
   "cell_type": "code",
   "execution_count": null,
   "metadata": {},
   "outputs": [],
   "source": []
  },
  {
   "cell_type": "code",
   "execution_count": null,
   "metadata": {},
   "outputs": [],
   "source": []
  }
 ],
 "metadata": {
  "kernelspec": {
   "display_name": "algo-env",
   "language": "python",
   "name": "python3"
  },
  "language_info": {
   "codemirror_mode": {
    "name": "ipython",
    "version": 3
   },
   "file_extension": ".py",
   "mimetype": "text/x-python",
   "name": "python",
   "nbconvert_exporter": "python",
   "pygments_lexer": "ipython3",
   "version": "3.10.11"
  },
  "orig_nbformat": 4
 },
 "nbformat": 4,
 "nbformat_minor": 2
}
